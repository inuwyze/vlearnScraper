{
 "metadata": {
  "language_info": {
   "codemirror_mode": {
    "name": "ipython",
    "version": 3
   },
   "file_extension": ".py",
   "mimetype": "text/x-python",
   "name": "python",
   "nbconvert_exporter": "python",
   "pygments_lexer": "ipython3",
   "version": "3.7.4"
  },
  "orig_nbformat": 2,
  "kernelspec": {
   "name": "python3",
   "display_name": "Python 3.7.4 32-bit",
   "metadata": {
    "interpreter": {
     "hash": "60ade66fed929c1d4980e1c21c521dedbb2d60453b20d802248af10059e6280e"
    }
   }
  }
 },
 "nbformat": 4,
 "nbformat_minor": 2,
 "cells": [
  {
   "cell_type": "code",
   "execution_count": 22,
   "metadata": {
    "tags": []
   },
   "outputs": [
    {
     "output_type": "stream",
     "name": "stdout",
     "text": [
      "<generator object <genexpr> at 0x0617F4B0>\n"
     ]
    }
   ],
   "source": [
    "import pickle\n",
    "\n",
    "mynewlist=None\n",
    "with open('courseDetails.pkl','rb') as f:\n",
    "    mynewlist = pickle.load(f)\n",
    "\n",
    "# print(mynewlist[0])\n",
    "print(x for x in mynewlist['Program Core'])\n",
    "\n"
   ]
  },
  {
   "cell_type": "code",
   "execution_count": 49,
   "metadata": {
    "tags": []
   },
   "outputs": [
    {
     "output_type": "stream",
     "name": "stdout",
     "text": [
      "177\nYear & Specialization: II,III,IV & All Specialization\nClass Room:FFL1-1,Slot No&Timing:L9:Monday 1.45-2.45 ,2.45-3.45\n185\nYear & Specialization: II,III,IV & All Specialization\nClass Room:FFL1-1,Slot No&Timing:L1:Monday 8.45-9.45 ,9.45-10.45\n185\nYear & Specialization: II,III,IV & All Specialization\nClass Room:FFL1-1,Slot No&Timing:L4:Thursday 8.45-9.45 ,9.45-10.45\n180\nYear & Specialization: II,III,IV & All Specialization\nClass Room:FFL1-1,Slot No&Timing:L2:Tuesday 8.45-9.45 ,9.45-10.45\n185\nYear & Specialization: II,III,IV & All Specialization\nClass Room:FFL1-1,Slot No&Timing:L7:Thursday 10.45-11.45 ,11.45-12.45\n179\nYear & Specialization: II,III,IV & All Specialization\nClass Room:FFL1-1,Slot No&Timing:L6:Monday10.45-11.45 ,11.45-12.45\n173\nYear & Specialization: II,III,IV & All Specialization\nClass Room:FFL1-1,Slot No&Timing:L8:Wednesday 10.45-11.45 ,11.45-12.45\n175\nYear & Specialization: II,III,IV & All Specialization\nClass Room:FFL2-1,Slot No&Timing:L9:Monday 1.45-2.45 ,2.45-3.45\n175\nYear & Specialization: II,III,IV & All Specialization\nClass Room:FFL1-1,Slot No&Timing:L11:Wednesday 1.45-2.45 ,2.45-3.45\n181\nYear & Specialization: II,III,IV & All Specialization\nClass Room:FFL1-2,Slot No&Timing:L13:Friday 1.45-2.45 ,2.45-3.45\n181\nYear & Specialization: II,III,IV & All Specialization\nClass Room:FFL1-2,Slot No&Timing:L14:Friday 8.45-9.45 ,9.45-10.45\n178\nYear & Specialization: II,III,IV& All Specialization\nClass Room:FFL1-2,Slot No&Timing:L1:Monday 8.45-9.45 ,9.45-10.45\n178\nYear & Specialization: II,III,IV & All Specialization\nClass Room:FFL1-1,Slot No&Timing:L15:Tuesday 1.45-2.45 ,2.45-3.45\n172\nYear & Specialization: II,III,IV& All Specialization\nClass Room:FFL1-1,Slot No&Timing:L3:Wednesday 8.45-9.45 ,9.45-10.45\n172\nYear & Specialization: II,III,IV& All Specialization\nClass Room:FFL1-2,Slot No&Timing:L4:Thursday 8.45-9.45 ,9.45-10.45\n180\nYear & Specialization: II,III,IV & All Specialization\nClass Room:FFL1-1,Slot No&Timing:L14:Friday 8.45-9.45 ,9.45-10.45\n174\nYear & Specialization: II,III,IV & All Specialization\nClass Room:FFL1-2,Slot No&Timing:L2:Tuesday 8.45-9.45 ,9.45-10.45\n174\nYear & Specialization: II,III,IV & All Specialization\nClass Room:FFL1-1,Slot No&Timing:L12:Thursday 1.45-2.45 ,2.45-3.45\n178\nYear & Specialization: II,III,IV & All Specialization\nClass Room:FFL1-2,Slot No&Timing:L11:Wednesday 1.45-2.45 ,2.45-3.45\n176\nYear & Specialization: II,III,IV & All Specialization\nClass Room:FFL1-2,Slot No&Timing:L12:Thursday 1.45-2.45 ,2.45-3.45\n176\nYear & Specialization: II,III,IV & All Specialization\nClass Room:FFL1-1,Slot No&Timing:L13:Friday 1.45-2.45 ,2.45-3.45\n173\nYear & Specialization: II,III,IV & All Specialization\nClass Room:FFL1-2,Slot No&Timing:L8:Wednesday 10.45-11.45 ,11.45-12.45\n174\nYear & Specialization: II,III,IV& All Specialization\nClass Room:FFL1-2,Slot No&Timing:L9:Monday 1.45-2.45 ,2.45-3.45\n174\nYear & Specialization: II,III,IV & All Specialization\nClass Room:FFL1-1,Slot No&Timing:L10:Friday 10.45-11.45 ,11.45-12.45\n178\nYear & Specialization: II,III,IV & All Specialization\nClass Room:FFL2-1,Slot No&Timing:L14:Friday 8.45-9.45 ,9.45-10.45\n178\nYear & Specialization: II,III,IV & All Specialization\nClass Room:FFL1-2,Slot No&Timing:L15:Tuesday 1.45-2.45 ,2.45-3.45\n177\nYear & Specialization: II,III,IV & All Specialization\nClass Room:FFL2-1,Slot No&Timing:L2:Tuesday 8.45-9.45 ,9.45-10.45\n177\nYear & Specialization: II,III,IV & All Specialization\nClass Room:FFL1-2,Slot No&Timing:L6:Monday10.45-11.45 ,11.45-12.45\n261\n"
     ]
    }
   ],
   "source": [
    "# split course info to attributes\n",
    "\n",
    "attrs=['faculty',\n",
    "        'category',\n",
    "        'course',\n",
    "        'pre-requisites',\n",
    "        'credit',\n",
    "        '&speciali']\n",
    "courses=[]\n",
    "atr={}\n",
    "ind=0\n",
    "\n",
    "for i,x in enumerate(mynewlist['Program Core']):\n",
    "    # print(x[0].split(',',7))\n",
    "    attr=x[0].split(',',7)\n",
    "    course={}\n",
    "    ind=i\n",
    "    try:\n",
    "        for a in attr: \n",
    "            # print(a.split(':',1))\n",
    "            atr,val=a.split(':',1)\n",
    "            course[atr.strip()]=val.strip()\n",
    "    except:\n",
    "        # print(attr)\n",
    "        print(x[0].find('Year & Specialization'))\n",
    "        \n",
    "        # attr=x[0][:x[0].find('Year & Specialization')-1].split(',',4)\n",
    "        YrSlt=x[0][x[0].find('Year & Specialization'):]\n",
    "        course['Year & Specialization']=YrSlt[:YrSlt.find('Class')-1]\n",
    "        course['Class Room']=YrSlt[YrSlt.find('Class'):].split(',',1)[0]\n",
    "        course['Class Room']=YrSlt[YrSlt.find('Class'):].split(',',1)[0]\n",
    "        course['Slot No&Timing']=YrSlt[YrSlt.find('Class'):].split(',',1)[1].split(':',1)[1]\n",
    "\n",
    "        print(YrSlt[:YrSlt.find('Class')-1])\n",
    "        print(YrSlt[YrSlt.find('Class'):])\n",
    "\n",
    "    courses.append(course)\n",
    "\n",
    "    # print(mynewlist['Program Core'][i][0].split(','))\n",
    "    # print(i)\n",
    "    # print(len(courses))\n",
    "print(len(mynewlist['Program Core']))\n",
    "    \n",
    "\n"
   ]
  },
  {
   "cell_type": "code",
   "execution_count": 50,
   "metadata": {
    "tags": []
   },
   "outputs": [
    {
     "output_type": "stream",
     "name": "stdout",
     "text": [
      "261\n1151CS303 : Database Management System Lab\nYear & Specialization: II,III,IV & All Specialization\ndict_keys(['TTS No&Faculty Name', 'Category', 'Course Code & Name', 'Prerequisite', 'Credit', 'Year & Specialization', 'Class Room', 'Slot No&Timing'])\ndict_values(['3158&ARUNKUMAR', 'Program Core', '1151CS303 : Database Management System Lab', '1151CS102-Data Structures', '1', 'Year & Specialization: II,III,IV & All Specialization', 'Class Room:FFL1-1', 'L10:Friday 10.45-11.45 ,11.45-12.45'])\n"
     ]
    }
   ],
   "source": [
    "i=190\n",
    "print(len(courses))\n",
    "print(courses[i]['Course Code & Name'])\n",
    "print(courses[i]['Year & Specialization'])\n",
    "print(courses[i].keys())\n",
    "print(courses[i].values())"
   ]
  },
  {
   "cell_type": "code",
   "execution_count": 69,
   "metadata": {},
   "outputs": [
    {
     "output_type": "stream",
     "name": "stdout",
     "text": [
      "dict_keys(['S5', 'L12', 'S3', 'S4', 'L4', 'S8', 'S1', 'S2', 'S9', 'S6', 'S7', 'S1+L1', 'S2+L4', 'S7+L6', 'S8+L9', 'S3+L3', 'S2+L2', 'S9+L9', 'S5+L5', 'S6+L6', 'S4+L4', 'S7+L7', 'L9', 'L1', 'L2', 'L7', 'L6', 'L8', 'L11', 'L13', 'L14', 'L15', 'L3', 'L10', 'L5'])\nS5 Monday-11.45 - 12.45,Tuesday-9.45 -10.45,Thursday-2.45- 3.45,Saturday-11.45-12.30\nL12 Thursday 1.45-2.45 ,2.45-3.45\nS3 Wednesday-1.45- 2.45,Thursday-8.45 – 9.45,Friday-9.45 - 10.45,Saturday-10.15-11.00\nS4 Tuesday-10.45 - 11.45,Thursday-1.45- 2.45,Friday-8.45 – 9.45,Saturday-11.00-11.45\nL4 Thursday 8.45-9.45 ,9.45-10.45\nS8 Monday-9.45 -10.45,Wednesday-2.45-3.45,Thursday-11.45-12.45,Saturday-1.30-2.15\nS1 Monday-1.45- 2.45,Tuesday 8.45-9.45,Wednesday-10.45 - 11.45,Saturday 8.45-9.30\nS2 Wednesday-8.45 – 9.45,Thursday10.45 - 11.45,Friday-1.45- 2.45, Saturday-9.30-10.15\nS9 Monday-10.45-11.45,Tuesday1.45-2.45,Friday-11.45-12.45,Saturday2.15-3.00\nS6 Monday-8.45-9.45,Tuesday-11.45-12.45,Wednesday-9.45 – 10.45,Saturday-3.00-3.45\nS7 Wednesday-11.45-12.45,Thursday-9.45 -10.45,Friday-10.45-11.45,Saturday-4.45-5.30\nS1+L1 Monday-1.45- 2.45,Tuesday 8.45-9.45,Saturday 8.45-9.30Monday 8.45-9.45 ,9.45-10.45\nS2+L4 Wednesday-8.45 – 9.45,Thursday10.45 - 11.45,Friday-1.45- 2.45, Saturday-9.30-10.15,Thursday 8.45-9.45 ,9.45-10.45\nS7+L6 Wednesday-11.45-12.45,Thursday-9.45 -10.45,Friday-10.45-11.45,Saturday-4.45-5.30,Monday10.45-11.45 ,11.45-12.45\nS8+L9 Monday-9.45 -10.45,Wednesday-2.45-3.45,Thursday-11.45-12.45,Saturday-1.30-2.15, Monday 1.45-2.45 ,2.45-3.45\nS3+L3 Wednesday-1.45- 2.45,Friday-9.45 - 10.45,Saturday-10.15-11.00Wednesday 8.45-9.45 ,9.45-10.45\nS2+L2 Wednesday-8.45 – 9.45,Friday-1.45- 2.45, Saturday-9.30-10.15Tuesday 8.45-9.45 ,9.45-10.45\nS9+L9 Monday-10.45-11.45,Tuesday1.45-2.45,Friday-11.45-12.45,Saturday2.15-3.00Monday 1.45-2.45 ,2.45-3.45\nS5+L5 Tuesday-9.45 -10.45,Thursday-2.45- 3.45,Saturday-11.45-12.30Tuesday 10.45-11.45 ,11.45-12.45\nS6+L6 Tuesday-11.45-12.45,Wednesday-9.45 – 10.45,Saturday-3.00-3.45Monday10.45-11.45 ,11.45-12.45\nS4+L4 Tuesday-10.45 - 11.45,Thursday-1.45- 2.45,Saturday-11.00-11.45Thursday 8.45-9.45 ,9.45-10.45\nS7+L7 Wednesday-11.45-12.45,Friday-10.45-11.45,Saturday-4.45-5.30Thursday 10.45-11.45 ,11.45-12.45\nL9 Monday 1.45-2.45 ,2.45-3.45\nL1 Monday 8.45-9.45 ,9.45-10.45\nL2 Tuesday 8.45-9.45 ,9.45-10.45\nL7 Thursday 10.45-11.45 ,11.45-12.45\nL6 Monday10.45-11.45 ,11.45-12.45\nL8 Wednesday 10.45-11.45 ,11.45-12.45\nL11 Wednesday 1.45-2.45 ,2.45-3.45\nL13 Friday 1.45-2.45 ,2.45-3.45\nL14 Friday 8.45-9.45 ,9.45-10.45\nL15 Tuesday 1.45-2.45 ,2.45-3.45\nL3 Wednesday 8.45-9.45 ,9.45-10.45\nL10 Friday 10.45-11.45 ,11.45-12.45\nL5 Tuesday 10.45-11.45 ,11.45-12.45\n"
     ]
    }
   ],
   "source": [
    "# find slot and their timings\n",
    "slotTime={}\n",
    "for x in courses:\n",
    "    slot,timing=x['Slot No&Timing'].split(':')\n",
    "    if hasattr(slotTime,slot):\n",
    "        continue\n",
    "    slotTime[slot]=timing\n",
    "\n",
    "# print(slotTime.keys())\n",
    "for slt,time in zip(slotTime.keys(),slotTime.values()):\n",
    "    print(slt,time)\n",
    "\n"
   ]
  },
  {
   "cell_type": "code",
   "execution_count": null,
   "metadata": {},
   "outputs": [],
   "source": []
  }
 ]
}