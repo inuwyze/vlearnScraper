{
 "metadata": {
  "language_info": {
   "codemirror_mode": {
    "name": "ipython",
    "version": 3
   },
   "file_extension": ".py",
   "mimetype": "text/x-python",
   "name": "python",
   "nbconvert_exporter": "python",
   "pygments_lexer": "ipython3",
   "version": "3.9.2-final"
  },
  "orig_nbformat": 2,
  "kernelspec": {
   "name": "python3",
   "display_name": "Python 3.9.2 64-bit",
   "metadata": {
    "interpreter": {
     "hash": "c9134af2754fd098ae80c553c76b4c6c2cc996481edf7c8f14ab48ce3facbdfe"
    }
   }
  }
 },
 "nbformat": 4,
 "nbformat_minor": 2,
 "cells": [
  {
   "cell_type": "code",
   "execution_count": 34,
   "metadata": {
    "tags": []
   },
   "outputs": [
    {
     "output_type": "stream",
     "name": "stdout",
     "text": [
      "<class 'dict'>\n"
     ]
    }
   ],
   "source": [
    "import json\r\n",
    "cse_department=json.load(open('../../courseDetails/CSECourseDetails.json'))\r\n",
    "print(type( cse_department))"
   ]
  },
  {
   "cell_type": "code",
   "execution_count": 35,
   "metadata": {
    "tags": []
   },
   "outputs": [
    {
     "output_type": "stream",
     "name": "stdout",
     "text": [
      "Compiler Design\nData Structures Lab\nOperating Systems\nConcrete Mathematics\nJava Programming\nJava Programming Lab\nConcrete Mathematics\nConcrete Mathematics\nConcrete Mathematics\nConcrete Mathematics\nConcrete Mathematics\nConcrete Mathematics\nConcrete Mathematics\nConcrete Mathematics\nConcrete Mathematics\nDigital Electronics\nSystem Software\nSystem Software\nSystem Software\nSystem Software\nSystem Software\nSystem Software\nSystem Software\nSystem Software\nSystem Software\nSystem Software\nSystem Software\nSystem Software\nSystem Software\nSystem Software\nSystem Software\nDatabase Management Systems\nDatabase Management Systems\nDatabase Management Systems\nDatabase Management Systems\nDatabase Management Systems\nDatabase Management Systems\nDatabase Management Systems\nDatabase Management Systems\nDatabase Management Systems\nDatabase Management Systems\nDatabase Management Systems\nDatabase Management Systems\nDatabase Management Systems\nDatabase Management Systems\nDatabase Management Systems\nOperating Systems\nOperating Systems\nOperating Systems\nOperating Systems\nOperating Systems\nOperating Systems\nOperating Systems\nOperating Systems\nOperating Systems\nOperating Systems\nOperating Systems\nOperating Systems\nOperating Systems\nOperating Systems\nOperating Systems\nTheory of Computation\nTheory of Computation\nTheory of Computation\nTheory of Computation\nTheory of Computation\nTheory of Computation\nTheory of Computation\nTheory of Computation\nTheory of Computation\nTheory of Computation\nTheory of Computation\nComputer Organization and Architecture\nComputer Organization and Architecture\nComputer Organization and Architecture\nComputer Organization and Architecture\nComputer Organization and Architecture\nComputer Organization and Architecture\nComputer Organization and Architecture\nComputer Organization and Architecture\nComputer Organization and Architecture\nComputer Organization and Architecture\nComputer Organization and Architecture\nComputer Organization and Architecture\nComputer Organization and Architecture\nComputer Organization and Architecture\nComputer Organization and Architecture\nComputer Organization and Architecture\nComputer Organization and Architecture\nComputer Networks\nComputer Networks\nComputer Networks\nComputer Networks\nComputer Networks\nComputer Networks\nComputer Networks\nComputer Networks\nComputer Networks\nComputer Networks\nComputer Networks\nComputer Networks\nComputer Networks\nComputer Networks\nObject Oriented Software Engineering\nObject Oriented Software Engineering\nComputer Graphics and Image Processing\nComputer Graphics and Image Processing\nData Warehousing and Data Mining\nData Warehousing and Data Mining\nData Warehousing and Data Mining\nData Warehousing and Data Mining\nData Warehousing and Data Mining\nData Warehousing and Data Mining\nData Warehousing and Data Mining\nData Warehousing and Data Mining\nCompiler Design\nCompiler Design\nCompiler Design\nCompiler Design\nCompiler Design\nCompiler Design\nCompiler Design\nCompiler Design\nMicroprocessors and Controllers\nMicroprocessors and Controllers\nMicroprocessors and Controllers\nMicroprocessors and Controllers\nMicroprocessors and Controllers\nMicroprocessors and Controllers\nMicroprocessors and Controllers\nMicroprocessors and Controllers\nMicroprocessors and Controllers\nMicroprocessors and Controllers\nMicroprocessors and Controllers\nMicroprocessors and Controllers\nMicroprocessors and Controllers\nMicroprocessors and Controllers\nIntroduction to Design and Analysis of Algorithms\nIntroduction to Design and Analysis of Algorithms\nIntroduction to Design and Analysis of Algorithms\nIntroduction to Design and Analysis of Algorithms\nIntroduction to Design and Analysis of Algorithms\nIntroduction to Design and Analysis of Algorithms\nIntroduction to Design and Analysis of Algorithms\nIntroduction to Design and Analysis of Algorithms\nIntroduction to Design and Analysis of Algorithms\nIntroduction to Design and Analysis of Algorithms\nIntroduction to Design and Analysis of Algorithms\nIntroduction to Design and Analysis of Algorithms\nIntroduction to Design and Analysis of Algorithms\nIntroduction to Design and Analysis of Algorithms\nIntroduction to Design and Analysis of Algorithms\nIntroduction to Design and Analysis of Algorithms\nIntroduction to Design and Analysis of Algorithms\nIntroduction to Design and Analysis of Algorithms\nMobile Application Development\nMobile Application Development\nMobile Application Development\nMobile Application Development\nMobile Application Development\nMobile Application Development\nMobile Application Development\nMobile Application Development\nMobile Application Development\nMobile Application Development\nMobile Application Development\nMobile Application Development\nMobile Application Development\nInternet Programming\nInternet Programming\nInternet Programming\nInternet Programming\nInternet Programming\nInternet Programming\nInternet Programming\nInternet Programming\nInternet Programming\nInternet Programming\nInternet Programming\nInternet Programming\nDatabase Management Systems Laboratory\nDatabase Management Systems Laboratory\nDatabase Management Systems Laboratory\nDatabase Management Systems Laboratory\nDatabase Management Systems Laboratory\nDatabase Management Systems Laboratory\nDatabase Management Systems Laboratory\nDatabase Management Systems Laboratory\nDatabase Management Systems Laboratory\nDatabase Management Systems Laboratory\nDatabase Management Systems Laboratory\nDatabase Management Systems Laboratory\nDatabase Management Systems Laboratory\nDatabase Management Systems Laboratory\nDatabase Management Systems Laboratory\nDatabase Management Systems Laboratory\nDatabase Management Systems Laboratory\nDatabase Management Systems Laboratory\nDatabase Management Systems Laboratory\nDatabase Management Systems Laboratory\nDatabase Management Systems Laboratory\nDatabase Management Systems Laboratory\nDatabase Management Systems Laboratory\nDatabase Management Systems Laboratory\nDatabase Management Systems Laboratory\nDatabase Management Systems Laboratory\nOperating Systems Laboratory\nOperating Systems Laboratory\nOperating Systems Laboratory\nOperating Systems Laboratory\nOperating Systems Laboratory\nOperating Systems Laboratory\nOperating Systems Laboratory\nOperating Systems Laboratory\nOperating Systems Laboratory\nOperating Systems Laboratory\nOperating Systems Laboratory\nOperating Systems Laboratory\nOperating Systems Laboratory\nOperating Systems Laboratory\nOperating Systems Laboratory\nOperating Systems Laboratory\nOperating Systems Laboratory\nOperating Systems Laboratory\nOperating Systems Laboratory\nOperating Systems Laboratory\nOperating Systems Laboratory\nOperating Systems Laboratory\nOperating Systems Laboratory\nOperating Systems Laboratory\nOperating Systems Laboratory\nOperating Systems Laboratory\nOperating Systems Laboratory\nOperating Systems Laboratory\nOperating Systems Laboratory\nOperating Systems Laboratory\nOperating Systems Laboratory\nOperating Systems Laboratory\nOperating Systems Laboratory\nOperating Systems Laboratory\nComputer Networks Laboratory\nComputer Networks Laboratory\nComputer Networks Laboratory\nComputer Networks Laboratory\nComputer Networks Laboratory\nComputer Networks Laboratory\nComputer Networks Laboratory\nComputer Networks Laboratory\nComputer Networks Laboratory\nComputer Networks Laboratory\nComputer Networks Laboratory\nComputer Networks Laboratory\nComputer Networks Laboratory\nComputer Networks Laboratory\nComputer Networks Laboratory\nComputer Networks Laboratory\nComputer Networks Laboratory\nComputer Networks Laboratory\nComputer Networks Laboratory\nComputer Networks Laboratory\nComputer Networks Laboratory\nComputer Networks Laboratory\nComputer Networks Laboratory\nComputer Networks Laboratory\nComputer Networks Laboratory\nComputer Networks Laboratory\nComputer Networks Laboratory\nComputer Networks Laboratory\nComputer Networks Laboratory\nComputer Networks Laboratory\nComputer Networks Laboratory\nComputer Networks Laboratory\nCloud computing Concepts\nCryptography and Network Security\nCryptography and Network Security\nCryptography and Network Security\nCryptography and Network Security\nCryptography and Network Security\nCryptography and Network Security\nCryptography and Network Security\nCryptography and Network Security\nCryptography and Network Security\nCryptography and Network Security\nEthical Hacking\nEthical Hacking\nPython Programming\nPython Programming\nPython Programming\nPython Programming\nPython Programming\nPython Programming\nPython Programming\nPython Programming\nPython Programming\nPython Programming\nPython Programming\nPython Programming\nPython Programming\nPython Programming\nPython Programming\nArtificial Intelligence\nArtificial Intelligence\nArtificial Intelligence\nArtificial Intelligence\nArtificial Intelligence\nArtificial Intelligence\nArtificial Intelligence\nMachine Learning Techniques\nMachine Learning Techniques\nMachine Learning Techniques\nMachine Learning Techniques\nBasics of Game Design\nCyber Forensics\nCyber Forensics\nBlockchain Technology\nCloud Security\nCloud Security\nDigital Forensics Methods\nDigital Forensics Methods\nCloud Computing Concepts\nCloud Computing Concepts\nCloud Computing Concepts\nCloud Computing Concepts\nCloud Computing Concepts\nInternet of Things\nInternet of Things\n3D Architecture and Art Design\nCyber Security\nCyber Security\nBig Data Architecture and Tools\nBig Data Architecture and Tools\nTensor Flow for Deep Learning\nTensor Flow for Deep Learning\nCompetitive Coding - I\nCompetitive Coding - I\nCompetitive Coding - I\nCompetitive Coding - I\nCompetitive Coding - I\nCompetitive Coding - I\nCompetitive Coding - I\nCompetitive Coding - I\nCompetitive Coding - I\nCompetitive Coding - I\nCompetitive Coding - II\nCompetitive Coding - II\nCompetitive Coding - II\nCompetitive Coding - II\nCompetitive Coding - II\nCompetitive Coding - II\nCompetitive Coding - II\nCompetitive Coding - II\nCompetitive Coding - II\nCompetitive Coding - II\nCompetitive Coding - II\nCompetitive Coding - II\nCompetitive Coding - II\nCompetitive Coding - II\nCompetitive Coding - II\nCompetitive Coding - II\nCompetitive Coding - II\nCompetitive Coding - II\nCompetitive Coding - II\nCompetitive Coding – III\nCompetitive Coding – III\nCompetitive Coding – III\nCompetitive Coding – III\nPrinciples of Programming Logic\nPrinciples of Programming Logic\nPrinciples of Programming Logic\nPrinciples of Programming Logic\nPrinciples of Programming Logic\nPrinciples of Programming Logic\n"
     ]
    }
   ],
   "source": [
    "course_names=set()\n",
    "for category in ['Program Core','Program Electives']:\n",
    "    for course in cse_department[category]:\n",
    "        print(course[0])\n",
    "        course_names.add(course[0])\n",
    "    "
   ]
  },
  {
   "cell_type": "code",
   "execution_count": 36,
   "metadata": {},
   "outputs": [
    {
     "output_type": "stream",
     "name": "stdout",
     "text": [
      "Database Management Systems\nCompetitive Coding - II\nCloud computing Concepts\nIntroduction to Design and Analysis of Algorithms\nDigital Electronics\nJava Programming\nInternet of Things\nOperating Systems Laboratory\nMachine Learning Techniques\nJava Programming Lab\nData Structures Lab\nMobile Application Development\nInternet Programming\nCompetitive Coding - I\nArtificial Intelligence\nCloud Security\nPython Programming\nTheory of Computation\nBlockchain Technology\nComputer Graphics and Image Processing\nCompiler Design\nTensor Flow for Deep Learning\nSystem Software\nOperating Systems\nCompetitive Coding – III\nMicroprocessors and Controllers\nBasics of Game Design\nCyber Security\nComputer Networks Laboratory\nComputer Organization and Architecture\nPrinciples of Programming Logic\nCyber Forensics\nConcrete Mathematics\nBig Data Architecture and Tools\nCloud Computing Concepts\n3D Architecture and Art Design\nDigital Forensics Methods\nDatabase Management Systems Laboratory\nComputer Networks\nEthical Hacking\nObject Oriented Software Engineering\nData Warehousing and Data Mining\nCryptography and Network Security\n"
     ]
    }
   ],
   "source": [
    "for x in course_names:\n",
    "    print(x)"
   ]
  },
  {
   "cell_type": "code",
   "execution_count": 39,
   "metadata": {},
   "outputs": [],
   "source": [
    "# print(list(course_names))\n",
    "with open(\"cse_courses.json\", \"w\") as write_file:\n",
    "    json.dump(list(course_names), write_file,indent=4)"
   ]
  }
 ]
}