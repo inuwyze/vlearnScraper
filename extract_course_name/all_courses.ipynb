{
 "metadata": {
  "language_info": {
   "codemirror_mode": {
    "name": "ipython",
    "version": 3
   },
   "file_extension": ".py",
   "mimetype": "text/x-python",
   "name": "python",
   "nbconvert_exporter": "python",
   "pygments_lexer": "ipython3",
   "version": "3.9.2-final"
  },
  "orig_nbformat": 2,
  "kernelspec": {
   "name": "python3",
   "display_name": "Python 3.9.2 64-bit",
   "metadata": {
    "interpreter": {
     "hash": "c9134af2754fd098ae80c553c76b4c6c2cc996481edf7c8f14ab48ce3facbdfe"
    }
   }
  }
 },
 "nbformat": 4,
 "nbformat_minor": 2,
 "cells": [
  {
   "cell_type": "code",
   "execution_count": 53,
   "metadata": {},
   "outputs": [],
   "source": [
    "# dependencies\n",
    "\n",
    "import json\n",
    "import re\n",
    "from os import listdir\n",
    "from os.path import isfile,join\n",
    "from collections import OrderedDict\n",
    "path='../../courseDetails'\n",
    "\n",
    "\n",
    "# class courseObj:\n",
    "#     def __str__(self):\n",
    "#         return self.name\n",
    "#     def __init__(self,name,category,department):\n",
    "#         self.name=name\n",
    "#         self.category=category\n",
    "#         self.department=department\n",
    "\n",
    "#     def __eq__(self,other):\n",
    "#         if isinstance(other, courseObj):\n",
    "#             return ((self.name == other.name) and (self.department == other.department))\n",
    "#         else:\n",
    "#             return False        \n",
    "    \n",
    "#     def __hash__(self):\n",
    "#         return hash((self.name,self.category))\n",
    "\n",
    "all_courses=set()\n"
   ]
  },
  {
   "cell_type": "code",
   "execution_count": 54,
   "metadata": {},
   "outputs": [
    {
     "output_type": "stream",
     "name": "stdout",
     "text": [
      "['AEROCourseDetails.json', 'ARTSCourseDetails.json', 'AUTOCourseDetails.json', 'BIOMEDCourseDetails.json', 'BIOTECHCourseDetails.json', 'CIVILCourseDetails.json', 'CSECourseDetails.json', 'ECECourseDetails.json', 'EEECourseDetails.json', 'FOUNDATION_CourseDetails.json', 'ITCourseDetails.json', 'MANAGEMENTCourseDetails.json', 'MASSCOMMCourseDetails.json', 'MECHCourseDetails.json', 'VEECourseDetails.json']\n"
     ]
    }
   ],
   "source": [
    "# isfile not required i guess \n",
    "# ehh who cares\n",
    "courses = [f for f in listdir(path) if isfile(join(path, f))]\n",
    "print(courses)"
   ]
  },
  {
   "cell_type": "code",
   "execution_count": 55,
   "metadata": {
    "tags": []
   },
   "outputs": [],
   "source": [
    "for department in courses:\n",
    "    if 'FOUNDATION' in department or 'VEE' in department:\n",
    "        continue\n",
    " \n",
    "    dep=json.load(open('../../courseDetails/'+department))\n",
    "    # print(dep['Program Core'][0])\n",
    "    for category in dep:\n",
    "        # print(dep[category])\n",
    "        for course in dep[category]:\n",
    "            dept='ALL' if category =='Foundation' else re.sub('CourseDetails.json','',department)\n",
    "            all_courses.add(tuple(OrderedDict([\n",
    "                (course[0],None),\n",
    "                (category,None),\n",
    "                (dept,None),\n",
    "            ])))\n",
    "            \n",
    "\n",
    "    \n",
    "    "
   ]
  },
  {
   "cell_type": "code",
   "execution_count": 56,
   "metadata": {
    "tags": []
   },
   "outputs": [
    {
     "output_type": "stream",
     "name": "stdout",
     "text": [
      "('Applied Statistics (Only for SoEC & SoMC)', 'Foundation', 'ALL')\n('Communication Laboratory', 'Program Core', 'ECE')\n('Major Project-PC', 'Independent Learning', 'CSE')\n('Advanced Vedic Mathematics', 'Institute Electives', 'ARTS')\n('Photographic Techniques', 'Visual Communication', 'MASSCOMM')\n('TRAINING AND DEVELOPMENT', 'B.B.A', 'MANAGEMENT')\n"
     ]
    }
   ],
   "source": [
    "print(list(all_courses)[0])\r\n",
    "print(list(all_courses)[5])\r\n",
    "print(list(all_courses)[7])\r\n",
    "print(list(all_courses)[8])\r\n",
    "print(list(all_courses)[9])\r\n",
    "print(list(all_courses)[12])"
   ]
  },
  {
   "cell_type": "code",
   "execution_count": 57,
   "metadata": {},
   "outputs": [],
   "source": [
    "# print(courses['VEECourseDetails.json'])\n",
    "VEE=json.load(open('../../courseDetails/VEECourseDetails.json'))\n",
    "for x in list(VEE.values())[0]:\n",
    "    all_courses.add(tuple(OrderedDict([\n",
    "                (x[0],None),\n",
    "                ('VEE',None),\n",
    "                ('ALL',None),\n",
    "            ])))\n",
    "# for x in courses['VEECourseDetails.json']:\n",
    "#     print(x)"
   ]
  },
  {
   "cell_type": "code",
   "execution_count": 58,
   "metadata": {
    "tags": []
   },
   "outputs": [
    {
     "output_type": "stream",
     "name": "stdout",
     "text": [
      "('Applied Statistics (Only for SoEC & SoMC)', 'Foundation', 'ALL')\n('Industrial Safety and Health', 'VEE', 'ALL')\n('Basic Electrical and Electronics Engineering Laboratory', 'Foundation', 'ALL')\n('Human Values for Engineers', 'VEE', 'ALL')\n('Engineering Mathematics-II', 'Foundation', 'ALL')\n('Problem Solving using C', 'Foundation', 'ALL')\n('Engineering Chemistry Laboratory', 'Foundation', 'ALL')\n('Applied Statistics(Only for SoEC & SoMC)', 'Foundation', 'ALL')\n('Human Values and Occupational Ethics', 'VEE', 'ALL')\n('Workplace Communication - II', 'Foundation', 'ALL')\n('Engineering Physics', 'Foundation', 'ALL')\n('Introduction to Engineering', 'Foundation', 'ALL')\n('Biology for Engineers', 'Foundation', 'ALL')\n('Engineering Materials', 'Foundation', 'ALL')\n('Basic Electrical Engineering', 'Foundation', 'ALL')\n('Transforms and Partial Differential Equations(Only for SoEC & SoMC)', 'Foundation', 'ALL')\n('Environmental Studies', 'Foundation', 'ALL')\n('Entrepreneurship - Skills and Development', 'VEE', 'ALL')\n('Computer Ethics', 'VEE', 'ALL')\n('Engineering Graphics', 'Foundation', 'ALL')\n('Basic Electronics Engineering', 'Foundation', 'ALL')\n('Basic Civil Engineering', 'Foundation', 'ALL')\n('Workplace Communication - I', 'Foundation', 'ALL')\n('Technical English', 'Foundation', 'ALL')\n('Creative Writing', 'VEE', 'ALL')\n('Basic Mechanical Engineering', 'Foundation', 'ALL')\n('Passionate Leadership', 'VEE', 'ALL')\n('Applied Statistics', 'Foundation', 'ALL')\n('Engineering Chemistry', 'Foundation', 'ALL')\n('Design Thinking', 'Foundation', 'ALL')\n('Mandarin Chinese Foundation - I, II & III', 'VEE', 'ALL')\n('Applied Statistics (Only for SoC)', 'Foundation', 'ALL')\n('Technical Communication', 'Foundation', 'ALL')\n('Ethics in Engineering', 'VEE', 'ALL')\n('Soft Skills', 'VEE', 'ALL')\n('Thirukkural', 'VEE', 'ALL')\n('Stress Relief for the Anxious Mind', 'VEE', 'ALL')\n('Aathichudi', 'VEE', 'ALL')\n('Project Management and Finance', 'Foundation', 'ALL')\n('Engineering Mathematics-I', 'Foundation', 'ALL')\n('Transforms and Partial Differential Equations', 'Foundation', 'ALL')\n('Vedic Mathematics', 'VEE', 'ALL')\n('Engineering Physics Laboratory', 'Foundation', 'ALL')\n"
     ]
    }
   ],
   "source": [
    "for x in list(all_courses):\n",
    "    # print(x[0])\n",
    "    # print(x[1])\n",
    "    # print(x[2])\n",
    "    if(x[2]=='ALL'):\n",
    "        print(x)"
   ]
  },
  {
   "cell_type": "code",
   "execution_count": 59,
   "metadata": {},
   "outputs": [],
   "source": [
    "with open('all_courses.json','w')as ac:\n",
    "    json.dump(list(all_courses),ac,indent=4)\n",
    "\n",
    "# file=open(\"courseDetails/FOUNDATION_CourseDetails.json\",'w')\n",
    "# json.dump(foundation_course_details,file,indent=4)"
   ]
  }
 ]
}