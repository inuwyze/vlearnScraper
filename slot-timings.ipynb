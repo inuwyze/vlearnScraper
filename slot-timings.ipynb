{
 "metadata": {
  "language_info": {
   "codemirror_mode": {
    "name": "ipython",
    "version": 3
   },
   "file_extension": ".py",
   "mimetype": "text/x-python",
   "name": "python",
   "nbconvert_exporter": "python",
   "pygments_lexer": "ipython3",
   "version": "3.7.4-final"
  },
  "orig_nbformat": 2,
  "kernelspec": {
   "name": "python3",
   "display_name": "Python 3.7.4 32-bit",
   "metadata": {
    "interpreter": {
     "hash": "378b5933d7440af72b272972b00016984f867e5c35dd4f56f11ce3af81f7077f"
    }
   }
  }
 },
 "nbformat": 4,
 "nbformat_minor": 2,
 "cells": [
  {
   "cell_type": "code",
   "execution_count": 124,
   "metadata": {},
   "outputs": [
    {
     "output_type": "stream",
     "name": "stdout",
     "text": [
      "{'S5': 'Monday-11.45 - 12.45,Tuesday-9.45 -10.45,Thursday-2.45- 3.45,Saturday-11.45-12.30', 'L12': 'Thursday 1.45-2.45 ,2.45-3.45', 'S3': 'Wednesday-1.45- 2.45,Thursday-8.45 - 9.45,Friday-9.45 - 10.45,Saturday-10.15-11.00', 'S4': 'Tuesday-10.45 - 11.45,Thursday-1.45- 2.45,Friday-8.45 - 9.45,Saturday-11.00-11.45', 'L4': 'Thursday 8.45-9.45 ,9.45-10.45', 'S8': 'Monday-9.45 -10.45,Wednesday-2.45-3.45,Thursday-11.45-12.45,Saturday-1.30-2.15', 'S1': 'Monday-1.45- 2.45,Tuesday 8.45-9.45,Wednesday-10.45 - 11.45,Saturday 8.45-9.30', 'S2': 'Wednesday-8.45 - 9.45,Thursday10.45 - 11.45,Friday-1.45- 2.45, Saturday-9.30-10.15', 'S9': 'Monday-10.45-11.45,Tuesday1.45-2.45,Friday-11.45-12.45,Saturday2.15-3.00', 'S6': 'Monday-8.45-9.45,Tuesday-11.45-12.45,Wednesday-9.45 - 10.45,Saturday-3.00-3.45', 'S7': 'Wednesday-11.45-12.45,Thursday-9.45 -10.45,Friday-10.45-11.45,Saturday-4.45-5.30', 'S1+L1': 'Monday-1.45- 2.45,Tuesday 8.45-9.45,Saturday 8.45-9.30,Monday 8.45-9.45 ,9.45-10.45', 'S2+L4': 'Wednesday-8.45 - 9.45,Thursday10.45 - 11.45,Friday-1.45- 2.45, Saturday-9.30-10.15,Thursday 8.45-9.45 ,9.45-10.45', 'S7+L6': 'Wednesday-11.45-12.45,Thursday-9.45 -10.45,Friday-10.45-11.45,Saturday-4.45-5.30,Monday10.45-11.45 ,11.45-12.45', 'S8+L9': 'Monday-9.45 -10.45,Wednesday-2.45-3.45,Thursday-11.45-12.45,Saturday-1.30-2.15, Monday 1.45-2.45 ,2.45-3.45', 'S3+L3': 'Wednesday-1.45- 2.45,Friday-9.45 - 10.45,Saturday-10.15-11.00,Wednesday 8.45-9.45 ,9.45-10.45', 'S2+L2': 'Wednesday-8.45 - 9.45,Friday-1.45- 2.45, Saturday-9.30-10.15,Tuesday 8.45-9.45 ,9.45-10.45', 'S9+L9': 'Monday-10.45-11.45,Tuesday1.45-2.45,Friday-11.45-12.45,Saturday2.15-3.00,Monday 1.45-2.45 ,2.45-3.45', 'S5+L5': 'Tuesday-9.45 -10.45,Thursday-2.45- 3.45,Saturday-11.45-12.30,Tuesday 10.45-11.45 ,11.45-12.45', 'S6+L6': 'Tuesday-11.45-12.45,Wednesday-9.45 - 10.45,Saturday-3.00-3.45,Monday10.45-11.45 ,11.45-12.45', 'S4+L4': 'Tuesday-10.45 - 11.45,Thursday-1.45- 2.45,Saturday-11.00-11.45,Thursday 8.45-9.45 ,9.45-10.45', 'S7+L7': 'Wednesday-11.45-12.45,Friday-10.45-11.45,Saturday-4.45-5.30,Thursday 10.45-11.45 ,11.45-12.45', 'L9': 'Monday 1.45-2.45 ,2.45-3.45', 'L1': 'Monday 8.45-9.45 ,9.45-10.45', 'L2': 'Tuesday 8.45-9.45 ,9.45-10.45', 'L7': 'Thursday 10.45-11.45 ,11.45-12.45', 'L6': 'Monday10.45-11.45 ,11.45-12.45', 'L8': 'Wednesday 10.45-11.45 ,11.45-12.45', 'L11': 'Wednesday 1.45-2.45 ,2.45-3.45', 'L13': 'Friday 1.45-2.45 ,2.45-3.45', 'L14': 'Friday 8.45-9.45 ,9.45-10.45', 'L15': 'Tuesday 1.45-2.45 ,2.45-3.45', 'L3': 'Wednesday 8.45-9.45 ,9.45-10.45', 'L10': 'Friday 10.45-11.45 ,11.45-12.45', 'L5': 'Tuesday 10.45-11.45 ,11.45-12.45'}\n"
     ]
    }
   ],
   "source": [
    "import json\n",
    "f = open('data_file.json',) \n",
    "data=json.load(f)\n",
    "print(data)\n",
    "\n"
   ]
  },
  {
   "cell_type": "code",
   "execution_count": 125,
   "metadata": {},
   "outputs": [],
   "source": [
    "\n",
    "\n",
    "for x in data:\n",
    "    slts=data[x].split(',')\n",
    "    if 'L' in x:\n",
    "        # slts[-2]=slts[-2]+slts[-1]\n",
    "        # slts.pop()\n",
    "        slts[-2]=slts[-2].split('-')[0]+'-'+slts[-1].split('-')[1]\n",
    "        slts.pop()\n",
    "        # print(slts[-2].split('-'))\n",
    "        # print(slts[-1].split('-'))\n",
    "        # print(slts)\n",
    "        \n",
    "    data[x]=slts\n",
    "    "
   ]
  },
  {
   "cell_type": "code",
   "execution_count": 126,
   "metadata": {},
   "outputs": [
    {
     "output_type": "stream",
     "name": "stdout",
     "text": [
      "[['Monday-11.45 - 12.45', 'Tuesday-9.45 -10.45', 'Thursday-2.45- 3.45', 'Saturday-11.45-12.30'], ['Thursday 1.45-3.45'], ['Wednesday-1.45- 2.45', 'Thursday-8.45 - 9.45', 'Friday-9.45 - 10.45', 'Saturday-10.15-11.00'], ['Tuesday-10.45 - 11.45', 'Thursday-1.45- 2.45', 'Friday-8.45 - 9.45', 'Saturday-11.00-11.45'], ['Thursday 8.45-10.45'], ['Monday-9.45 -10.45', 'Wednesday-2.45-3.45', 'Thursday-11.45-12.45', 'Saturday-1.30-2.15'], ['Monday-1.45- 2.45', 'Tuesday 8.45-9.45', 'Wednesday-10.45 - 11.45', 'Saturday 8.45-9.30'], ['Wednesday-8.45 - 9.45', 'Thursday10.45 - 11.45', 'Friday-1.45- 2.45', ' Saturday-9.30-10.15'], ['Monday-10.45-11.45', 'Tuesday1.45-2.45', 'Friday-11.45-12.45', 'Saturday2.15-3.00'], ['Monday-8.45-9.45', 'Tuesday-11.45-12.45', 'Wednesday-9.45 - 10.45', 'Saturday-3.00-3.45'], ['Wednesday-11.45-12.45', 'Thursday-9.45 -10.45', 'Friday-10.45-11.45', 'Saturday-4.45-5.30'], ['Monday-1.45- 2.45', 'Tuesday 8.45-9.45', 'Saturday 8.45-9.30', 'Monday 8.45-10.45'], ['Wednesday-8.45 - 9.45', 'Thursday10.45 - 11.45', 'Friday-1.45- 2.45', ' Saturday-9.30-10.15', 'Thursday 8.45-10.45'], ['Wednesday-11.45-12.45', 'Thursday-9.45 -10.45', 'Friday-10.45-11.45', 'Saturday-4.45-5.30', 'Monday10.45-12.45'], ['Monday-9.45 -10.45', 'Wednesday-2.45-3.45', 'Thursday-11.45-12.45', 'Saturday-1.30-2.15', ' Monday 1.45-3.45'], ['Wednesday-1.45- 2.45', 'Friday-9.45 - 10.45', 'Saturday-10.15-11.00', 'Wednesday 8.45-10.45'], ['Wednesday-8.45 - 9.45', 'Friday-1.45- 2.45', ' Saturday-9.30-10.15', 'Tuesday 8.45-10.45'], ['Monday-10.45-11.45', 'Tuesday1.45-2.45', 'Friday-11.45-12.45', 'Saturday2.15-3.00', 'Monday 1.45-3.45'], ['Tuesday-9.45 -10.45', 'Thursday-2.45- 3.45', 'Saturday-11.45-12.30', 'Tuesday 10.45-12.45'], ['Tuesday-11.45-12.45', 'Wednesday-9.45 - 10.45', 'Saturday-3.00-3.45', 'Monday10.45-12.45'], ['Tuesday-10.45 - 11.45', 'Thursday-1.45- 2.45', 'Saturday-11.00-11.45', 'Thursday 8.45-10.45'], ['Wednesday-11.45-12.45', 'Friday-10.45-11.45', 'Saturday-4.45-5.30', 'Thursday 10.45-12.45'], ['Monday 1.45-3.45'], ['Monday 8.45-10.45'], ['Tuesday 8.45-10.45'], ['Thursday 10.45-12.45'], ['Monday10.45-12.45'], ['Wednesday 10.45-12.45'], ['Wednesday 1.45-3.45'], ['Friday 1.45-3.45'], ['Friday 8.45-10.45'], ['Tuesday 1.45-3.45'], ['Wednesday 8.45-10.45'], ['Friday 10.45-12.45'], ['Tuesday 10.45-12.45']]\n"
     ]
    }
   ],
   "source": [
    "print([data[x] for x in data])"
   ]
  },
  {
   "cell_type": "code",
   "execution_count": 127,
   "metadata": {},
   "outputs": [
    {
     "output_type": "stream",
     "name": "stdout",
     "text": [
      "Monday\n<re.Match object; span=(7, 20), match='11.45 - 12.45'>\n"
     ]
    }
   ],
   "source": [
    "# split day and time\n",
    "\n",
    "import re\n",
    "regTime=r\"\\d.*\\d\"\n",
    "regDay=r\"[a-zA-Z]+\"\n",
    "\n",
    "day=re.search(regDay,data[\"S5\"][0])\n",
    "time=re.search(regTime,data[\"S5\"][0])\n",
    "\n",
    "print(day.group(0))\n",
    "print(time)\n",
    "# print(data[\"S5\"][0][:a.start()])\n",
    "\n"
   ]
  },
  {
   "cell_type": "code",
   "execution_count": 128,
   "metadata": {},
   "outputs": [],
   "source": [
    "# iterate through the entire data\n",
    "# and create timings object with (day,time) pairing\n",
    "for x in data:\n",
    "    timing={}\n",
    "    for y in data[x]:\n",
    "        day=re.search(regDay,y)\n",
    "        time=re.search(regTime,y)\n",
    "        # print(y)\n",
    "        # print(day.group(0))\n",
    "        # print(time.group(0))\n",
    "        timing[day.group(0)]=time.group(0)\n",
    "    data[x]=timing"
   ]
  },
  {
   "cell_type": "code",
   "execution_count": 129,
   "metadata": {
    "tags": []
   },
   "outputs": [
    {
     "output_type": "stream",
     "name": "stdout",
     "text": [
      "{'Monday': '11.45 - 12.45', 'Tuesday': '9.45 -10.45', 'Thursday': '2.45- 3.45', 'Saturday': '11.45-12.30'}\n{'Thursday': '1.45-3.45'}\n{'Wednesday': '1.45- 2.45', 'Thursday': '8.45 - 9.45', 'Friday': '9.45 - 10.45', 'Saturday': '10.15-11.00'}\n{'Tuesday': '10.45 - 11.45', 'Thursday': '1.45- 2.45', 'Friday': '8.45 - 9.45', 'Saturday': '11.00-11.45'}\n{'Thursday': '8.45-10.45'}\n{'Monday': '9.45 -10.45', 'Wednesday': '2.45-3.45', 'Thursday': '11.45-12.45', 'Saturday': '1.30-2.15'}\n{'Monday': '1.45- 2.45', 'Tuesday': '8.45-9.45', 'Wednesday': '10.45 - 11.45', 'Saturday': '8.45-9.30'}\n{'Wednesday': '8.45 - 9.45', 'Thursday': '10.45 - 11.45', 'Friday': '1.45- 2.45', 'Saturday': '9.30-10.15'}\n{'Monday': '10.45-11.45', 'Tuesday': '1.45-2.45', 'Friday': '11.45-12.45', 'Saturday': '2.15-3.00'}\n{'Monday': '8.45-9.45', 'Tuesday': '11.45-12.45', 'Wednesday': '9.45 - 10.45', 'Saturday': '3.00-3.45'}\n{'Wednesday': '11.45-12.45', 'Thursday': '9.45 -10.45', 'Friday': '10.45-11.45', 'Saturday': '4.45-5.30'}\n{'Monday': '8.45-10.45', 'Tuesday': '8.45-9.45', 'Saturday': '8.45-9.30'}\n{'Wednesday': '8.45 - 9.45', 'Thursday': '8.45-10.45', 'Friday': '1.45- 2.45', 'Saturday': '9.30-10.15'}\n{'Wednesday': '11.45-12.45', 'Thursday': '9.45 -10.45', 'Friday': '10.45-11.45', 'Saturday': '4.45-5.30', 'Monday': '10.45-12.45'}\n{'Monday': '1.45-3.45', 'Wednesday': '2.45-3.45', 'Thursday': '11.45-12.45', 'Saturday': '1.30-2.15'}\n{'Wednesday': '8.45-10.45', 'Friday': '9.45 - 10.45', 'Saturday': '10.15-11.00'}\n{'Wednesday': '8.45 - 9.45', 'Friday': '1.45- 2.45', 'Saturday': '9.30-10.15', 'Tuesday': '8.45-10.45'}\n{'Monday': '1.45-3.45', 'Tuesday': '1.45-2.45', 'Friday': '11.45-12.45', 'Saturday': '2.15-3.00'}\n{'Tuesday': '10.45-12.45', 'Thursday': '2.45- 3.45', 'Saturday': '11.45-12.30'}\n{'Tuesday': '11.45-12.45', 'Wednesday': '9.45 - 10.45', 'Saturday': '3.00-3.45', 'Monday': '10.45-12.45'}\n{'Tuesday': '10.45 - 11.45', 'Thursday': '8.45-10.45', 'Saturday': '11.00-11.45'}\n{'Wednesday': '11.45-12.45', 'Friday': '10.45-11.45', 'Saturday': '4.45-5.30', 'Thursday': '10.45-12.45'}\n{'Monday': '1.45-3.45'}\n{'Monday': '8.45-10.45'}\n{'Tuesday': '8.45-10.45'}\n{'Thursday': '10.45-12.45'}\n{'Monday': '10.45-12.45'}\n{'Wednesday': '10.45-12.45'}\n{'Wednesday': '1.45-3.45'}\n{'Friday': '1.45-3.45'}\n{'Friday': '8.45-10.45'}\n{'Tuesday': '1.45-3.45'}\n{'Wednesday': '8.45-10.45'}\n{'Friday': '10.45-12.45'}\n{'Tuesday': '10.45-12.45'}\n"
     ]
    }
   ],
   "source": [
    "for x in data:\n",
    "    print(data[x])"
   ]
  },
  {
   "cell_type": "code",
   "execution_count": 130,
   "metadata": {},
   "outputs": [
    {
     "output_type": "stream",
     "name": "stdout",
     "text": [
      "['11.45 ', ' 12.45']\n['9.45 ', '10.45']\n['2.45', ' 3.45']\n['11.45', '12.30']\n['1.45', '3.45']\n['1.45', ' 2.45']\n['8.45 ', ' 9.45']\n['9.45 ', ' 10.45']\n['10.15', '11.00']\n['10.45 ', ' 11.45']\n['1.45', ' 2.45']\n['8.45 ', ' 9.45']\n['11.00', '11.45']\n['8.45', '10.45']\n['9.45 ', '10.45']\n['2.45', '3.45']\n['11.45', '12.45']\n['1.30', '2.15']\n['1.45', ' 2.45']\n['8.45', '9.45']\n['10.45 ', ' 11.45']\n['8.45', '9.30']\n['8.45 ', ' 9.45']\n['10.45 ', ' 11.45']\n['1.45', ' 2.45']\n['9.30', '10.15']\n['10.45', '11.45']\n['1.45', '2.45']\n['11.45', '12.45']\n['2.15', '3.00']\n['8.45', '9.45']\n['11.45', '12.45']\n['9.45 ', ' 10.45']\n['3.00', '3.45']\n['11.45', '12.45']\n['9.45 ', '10.45']\n['10.45', '11.45']\n['4.45', '5.30']\n['8.45', '10.45']\n['8.45', '9.45']\n['8.45', '9.30']\n['8.45 ', ' 9.45']\n['8.45', '10.45']\n['1.45', ' 2.45']\n['9.30', '10.15']\n['11.45', '12.45']\n['9.45 ', '10.45']\n['10.45', '11.45']\n['4.45', '5.30']\n['10.45', '12.45']\n['1.45', '3.45']\n['2.45', '3.45']\n['11.45', '12.45']\n['1.30', '2.15']\n['8.45', '10.45']\n['9.45 ', ' 10.45']\n['10.15', '11.00']\n['8.45 ', ' 9.45']\n['1.45', ' 2.45']\n['9.30', '10.15']\n['8.45', '10.45']\n['1.45', '3.45']\n['1.45', '2.45']\n['11.45', '12.45']\n['2.15', '3.00']\n['10.45', '12.45']\n['2.45', ' 3.45']\n['11.45', '12.30']\n['11.45', '12.45']\n['9.45 ', ' 10.45']\n['3.00', '3.45']\n['10.45', '12.45']\n['10.45 ', ' 11.45']\n['8.45', '10.45']\n['11.00', '11.45']\n['11.45', '12.45']\n['10.45', '11.45']\n['4.45', '5.30']\n['10.45', '12.45']\n['1.45', '3.45']\n['8.45', '10.45']\n['8.45', '10.45']\n['10.45', '12.45']\n['10.45', '12.45']\n['10.45', '12.45']\n['1.45', '3.45']\n['1.45', '3.45']\n['8.45', '10.45']\n['1.45', '3.45']\n['8.45', '10.45']\n['10.45', '12.45']\n['10.45', '12.45']\n"
     ]
    }
   ],
   "source": [
    "# set timing to decimal format\n",
    "# convert to 24hr format\n",
    "import math\n",
    "for x in data:\n",
    "    for y in data[x]:\n",
    "        print(data[x][y].split('-'))\n",
    "        start,end=map(float,data[x][y].split('-'))\n",
    "        start=int(start)+round(math.modf(start)[0],2)/.6\n",
    "        end=int(end)+round(math.modf(end)[0],2)/.6\n",
    "        if(start<7):\n",
    "            start+=12\n",
    "        if(end<7):\n",
    "            end+=12\n",
    "        data[x][y]=[start,end]\n",
    "        \n",
    "        \n"
   ]
  },
  {
   "cell_type": "code",
   "execution_count": 132,
   "metadata": {},
   "outputs": [
    {
     "output_type": "stream",
     "name": "stdout",
     "text": [
      "{'Monday': [11.75, 12.75], 'Tuesday': [9.75, 10.75], 'Thursday': [14.75, 15.75], 'Saturday': [11.75, 12.5]}\n{'Thursday': [13.75, 15.75]}\n{'Wednesday': [13.75, 14.75], 'Thursday': [8.75, 9.75], 'Friday': [9.75, 10.75], 'Saturday': [10.25, 11.0]}\n{'Tuesday': [10.75, 11.75], 'Thursday': [13.75, 14.75], 'Friday': [8.75, 9.75], 'Saturday': [11.0, 11.75]}\n{'Thursday': [8.75, 10.75]}\n{'Monday': [9.75, 10.75], 'Wednesday': [14.75, 15.75], 'Thursday': [11.75, 12.75], 'Saturday': [13.5, 14.25]}\n{'Monday': [13.75, 14.75], 'Tuesday': [8.75, 9.75], 'Wednesday': [10.75, 11.75], 'Saturday': [8.75, 9.5]}\n{'Wednesday': [8.75, 9.75], 'Thursday': [10.75, 11.75], 'Friday': [13.75, 14.75], 'Saturday': [9.5, 10.25]}\n{'Monday': [10.75, 11.75], 'Tuesday': [13.75, 14.75], 'Friday': [11.75, 12.75], 'Saturday': [14.25, 15.0]}\n{'Monday': [8.75, 9.75], 'Tuesday': [11.75, 12.75], 'Wednesday': [9.75, 10.75], 'Saturday': [15.0, 15.75]}\n{'Wednesday': [11.75, 12.75], 'Thursday': [9.75, 10.75], 'Friday': [10.75, 11.75], 'Saturday': [16.75, 17.5]}\n{'Monday': [8.75, 10.75], 'Tuesday': [8.75, 9.75], 'Saturday': [8.75, 9.5]}\n{'Wednesday': [8.75, 9.75], 'Thursday': [8.75, 10.75], 'Friday': [13.75, 14.75], 'Saturday': [9.5, 10.25]}\n{'Wednesday': [11.75, 12.75], 'Thursday': [9.75, 10.75], 'Friday': [10.75, 11.75], 'Saturday': [16.75, 17.5], 'Monday': [10.75, 12.75]}\n{'Monday': [13.75, 15.75], 'Wednesday': [14.75, 15.75], 'Thursday': [11.75, 12.75], 'Saturday': [13.5, 14.25]}\n{'Wednesday': [8.75, 10.75], 'Friday': [9.75, 10.75], 'Saturday': [10.25, 11.0]}\n{'Wednesday': [8.75, 9.75], 'Friday': [13.75, 14.75], 'Saturday': [9.5, 10.25], 'Tuesday': [8.75, 10.75]}\n{'Monday': [13.75, 15.75], 'Tuesday': [13.75, 14.75], 'Friday': [11.75, 12.75], 'Saturday': [14.25, 15.0]}\n{'Tuesday': [10.75, 12.75], 'Thursday': [14.75, 15.75], 'Saturday': [11.75, 12.5]}\n{'Tuesday': [11.75, 12.75], 'Wednesday': [9.75, 10.75], 'Saturday': [15.0, 15.75], 'Monday': [10.75, 12.75]}\n{'Tuesday': [10.75, 11.75], 'Thursday': [8.75, 10.75], 'Saturday': [11.0, 11.75]}\n{'Wednesday': [11.75, 12.75], 'Friday': [10.75, 11.75], 'Saturday': [16.75, 17.5], 'Thursday': [10.75, 12.75]}\n{'Monday': [13.75, 15.75]}\n{'Monday': [8.75, 10.75]}\n{'Tuesday': [8.75, 10.75]}\n{'Thursday': [10.75, 12.75]}\n{'Monday': [10.75, 12.75]}\n{'Wednesday': [10.75, 12.75]}\n{'Wednesday': [13.75, 15.75]}\n{'Friday': [13.75, 15.75]}\n{'Friday': [8.75, 10.75]}\n{'Tuesday': [13.75, 15.75]}\n{'Wednesday': [8.75, 10.75]}\n{'Friday': [10.75, 12.75]}\n{'Tuesday': [10.75, 12.75]}\n"
     ]
    }
   ],
   "source": [
    "for x in data:\n",
    "    \n",
    "    print(data[x])"
   ]
  },
  {
   "cell_type": "code",
   "execution_count": 134,
   "metadata": {},
   "outputs": [],
   "source": [
    "import json\n",
    "\n",
    "with open('slotTimings.json',\"w\") as slotTimings:\n",
    "    json.dump(data,slotTimings,indent=2)\n"
   ]
  },
  {
   "cell_type": "code",
   "execution_count": null,
   "metadata": {},
   "outputs": [],
   "source": []
  }
 ]
}