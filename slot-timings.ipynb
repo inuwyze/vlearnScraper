{
 "metadata": {
  "language_info": {
   "codemirror_mode": {
    "name": "ipython",
    "version": 3
   },
   "file_extension": ".py",
   "mimetype": "text/x-python",
   "name": "python",
   "nbconvert_exporter": "python",
   "pygments_lexer": "ipython3",
   "version": "3.7.4-final"
  },
  "orig_nbformat": 2,
  "kernelspec": {
   "name": "python3",
   "display_name": "Python 3.7.4 32-bit",
   "metadata": {
    "interpreter": {
     "hash": "378b5933d7440af72b272972b00016984f867e5c35dd4f56f11ce3af81f7077f"
    }
   }
  }
 },
 "nbformat": 4,
 "nbformat_minor": 2,
 "cells": [
  {
   "cell_type": "code",
   "execution_count": 93,
   "metadata": {},
   "outputs": [
    {
     "output_type": "stream",
     "name": "stdout",
     "text": [
      "{'S5': 'Monday-11.45 - 12.45,Tuesday-9.45 -10.45,Thursday-2.45- 3.45,Saturday-11.45-12.30', 'L12': 'Thursday 1.45-2.45 ,2.45-3.45', 'S3': 'Wednesday-1.45- 2.45,Thursday-8.45 – 9.45,Friday-9.45 - 10.45,Saturday-10.15-11.00', 'S4': 'Tuesday-10.45 - 11.45,Thursday-1.45- 2.45,Friday-8.45 – 9.45,Saturday-11.00-11.45', 'L4': 'Thursday 8.45-9.45 ,9.45-10.45', 'S8': 'Monday-9.45 -10.45,Wednesday-2.45-3.45,Thursday-11.45-12.45,Saturday-1.30-2.15', 'S1': 'Monday-1.45- 2.45,Tuesday 8.45-9.45,Wednesday-10.45 - 11.45,Saturday 8.45-9.30', 'S2': 'Wednesday-8.45 – 9.45,Thursday10.45 - 11.45,Friday-1.45- 2.45, Saturday-9.30-10.15', 'S9': 'Monday-10.45-11.45,Tuesday1.45-2.45,Friday-11.45-12.45,Saturday2.15-3.00', 'S6': 'Monday-8.45-9.45,Tuesday-11.45-12.45,Wednesday-9.45 – 10.45,Saturday-3.00-3.45', 'S7': 'Wednesday-11.45-12.45,Thursday-9.45 -10.45,Friday-10.45-11.45,Saturday-4.45-5.30', 'S1+L1': 'Monday-1.45- 2.45,Tuesday 8.45-9.45,Saturday 8.45-9.30Monday 8.45-9.45 ,9.45-10.45', 'S2+L4': 'Wednesday-8.45 – 9.45,Thursday10.45 - 11.45,Friday-1.45- 2.45, Saturday-9.30-10.15,Thursday 8.45-9.45 ,9.45-10.45', 'S7+L6': 'Wednesday-11.45-12.45,Thursday-9.45 -10.45,Friday-10.45-11.45,Saturday-4.45-5.30,Monday10.45-11.45 ,11.45-12.45', 'S8+L9': 'Monday-9.45 -10.45,Wednesday-2.45-3.45,Thursday-11.45-12.45,Saturday-1.30-2.15, Monday 1.45-2.45 ,2.45-3.45', 'S3+L3': 'Wednesday-1.45- 2.45,Friday-9.45 - 10.45,Saturday-10.15-11.00,Wednesday 8.45-10.45', 'S2+L2': 'Wednesday-8.45 – 9.45,Friday-1.45- 2.45, Saturday-9.30-10.15Tuesday 8.45-9.45 ,9.45-10.45', 'S9+L9': 'Monday-10.45-11.45,Tuesday1.45-2.45,Friday-11.45-12.45,Saturday2.15-3.00Monday 1.45-2.45 ,2.45-3.45', 'S5+L5': 'Tuesday-9.45 -10.45,Thursday-2.45- 3.45,Saturday-11.45-12.30Tuesday 10.45-11.45 ,11.45-12.45', 'S6+L6': 'Tuesday-11.45-12.45,Wednesday-9.45 – 10.45,Saturday-3.00-3.45Monday10.45-11.45 ,11.45-12.45', 'S4+L4': 'Tuesday-10.45 - 11.45,Thursday-1.45- 2.45,Saturday-11.00-11.45Thursday 8.45-9.45 ,9.45-10.45', 'S7+L7': 'Wednesday-11.45-12.45,Friday-10.45-11.45,Saturday-4.45-5.30Thursday 10.45-11.45 ,11.45-12.45', 'L9': 'Monday 1.45-2.45 ,2.45-3.45', 'L1': 'Monday 8.45-9.45 ,9.45-10.45', 'L2': 'Tuesday 8.45-9.45 ,9.45-10.45', 'L7': 'Thursday 10.45-11.45 ,11.45-12.45', 'L6': 'Monday10.45-11.45 ,11.45-12.45', 'L8': 'Wednesday 10.45-11.45 ,11.45-12.45', 'L11': 'Wednesday 1.45-2.45 ,2.45-3.45', 'L13': 'Friday 1.45-2.45 ,2.45-3.45', 'L14': 'Friday 8.45-9.45 ,9.45-10.45', 'L15': 'Tuesday 1.45-2.45 ,2.45-3.45', 'L3': 'Wednesday 8.45-9.45 ,9.45-10.45', 'L10': 'Friday 10.45-11.45 ,11.45-12.45', 'L5': 'Tuesday 10.45-11.45 ,11.45-12.45'}\n"
     ]
    }
   ],
   "source": [
    "import json\n",
    "f = open('data_file.json',) \n",
    "data=json.load(f)\n",
    "print(data)\n",
    "\n"
   ]
  },
  {
   "cell_type": "code",
   "execution_count": 107,
   "metadata": {},
   "outputs": [
    {
     "output_type": "stream",
     "name": "stdout",
     "text": [
      "\n[]\n\n\n[]\n\n\n\n\n\n\n[]\n[]\n[]\n[]\n[]\n[]\n[]\n[]\n[]\n[]\n[]\n[]\n[]\n[]\n[]\n[]\n[]\n[]\n[]\n[]\n[]\n[]\n[]\n[]\n"
     ]
    }
   ],
   "source": [
    "rgex= r\"[A-Z].+[0-9]()\"\n",
    "import re \n",
    "p=re.compile(rgex)\n",
    "\n",
    "\n",
    "for x in data:\n",
    "    if 'L' in x:\n",
    "        print(p.findall(data[x]))\n",
    "    else:\n",
    "        # print(data[x].split(','))\n",
    "        print()"
   ]
  },
  {
   "cell_type": "code",
   "execution_count": null,
   "metadata": {},
   "outputs": [],
   "source": []
  }
 ]
}