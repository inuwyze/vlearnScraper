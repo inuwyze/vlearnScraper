{
 "metadata": {
  "language_info": {
   "codemirror_mode": {
    "name": "ipython",
    "version": 3
   },
   "file_extension": ".py",
   "mimetype": "text/x-python",
   "name": "python",
   "nbconvert_exporter": "python",
   "pygments_lexer": "ipython3",
   "version": "3.7.4-final"
  },
  "orig_nbformat": 2,
  "kernelspec": {
   "name": "python3",
   "display_name": "Python 3.7.4 32-bit",
   "metadata": {
    "interpreter": {
     "hash": "378b5933d7440af72b272972b00016984f867e5c35dd4f56f11ce3af81f7077f"
    }
   }
  }
 },
 "nbformat": 4,
 "nbformat_minor": 2,
 "cells": [
  {
   "cell_type": "code",
   "execution_count": 8,
   "metadata": {},
   "outputs": [],
   "source": [
    "import json\n",
    "from os import listdir\n",
    "from os.path import isfile, join\n",
    "import collections \n",
    "import re\n",
    "\n",
    "mypath='../../courseDetails'\n",
    "courseDetails = [f for f in listdir(mypath) if isfile(join(mypath, f))]\n",
    "selDept=['AERO','MECH','CIVIL']\n",
    "\n"
   ]
  },
  {
   "cell_type": "code",
   "execution_count": 9,
   "metadata": {},
   "outputs": [],
   "source": [
    "departments={}\n",
    "for x in courseDetails:\n",
    "    dept = json.load(open(\"../../courseDetails/\"+x))\n",
    "    departments[x.split('.')[0]]=dept\n",
    "    "
   ]
  },
  {
   "cell_type": "code",
   "execution_count": 10,
   "metadata": {
    "tags": []
   },
   "outputs": [],
   "source": [
    "\n",
    "# remove unwanted departments data\n",
    "dept=list (departments.keys())\n",
    "for x in dept:\n",
    "    if not len([y for y in selDept if y in x]):\n",
    "        del departments[x]\n",
    "    \n",
    "    "
   ]
  },
  {
   "cell_type": "code",
   "execution_count": 11,
   "metadata": {
    "tags": []
   },
   "outputs": [
    {
     "output_type": "stream",
     "name": "stdout",
     "text": [
      "{958808779: [('THU', 15.75, 16.583333333333332), ('FRI', 15.75, 16.583333333333332), ('SAT', 15.75, 16.583333333333332)]}\n"
     ]
    }
   ],
   "source": [
    "# institute_allied\n",
    "\n",
    "# AERO \n",
    "# institute\n",
    "\n",
    "\n",
    "sys.path.append('../')\n",
    "from util.slotTiming import makeSlotTime\n",
    "\n",
    "\n",
    "# print(departments['AEROCourseDetails']['Institute Electives'][0][1].split('\\\\'))\n",
    "# print(departments['AEROCourseDetails']['Institute Electives'])\n",
    "slots={}\n",
    "for i,x in enumerate(departments['AEROCourseDetails']['Institute Electives']):\n",
    "    \n",
    "    departments['AEROCourseDetails']['Institute Electives'][i][1]=departments['AEROCourseDetails']['Institute Electives'][i][1].split('\\\\')[1]\n",
    "    departments['AEROCourseDetails']['Institute Electives'][i][1]=departments['AEROCourseDetails']['Institute Electives'][i][1].split(',')\n",
    "    departments['AEROCourseDetails']['Institute Electives'][i][1].pop()\n",
    "\n",
    "    # print(departments['AEROCourseDetails']['Institute Electives'][i][1][0].split(' ',1))\n",
    "    # set slot(day:time) object\n",
    "    slot=[]\n",
    "    n=1\n",
    "    for i,y in enumerate(departments['AEROCourseDetails']['Institute Electives'][i][1]):\n",
    "        \n",
    "        # print(y)\n",
    "        day,start,end=makeSlotTime(' ','to',y)\n",
    "        \n",
    "        slot.append((day,start,end))\n",
    "        # print(start,end)\n",
    "    # print(hash(frozenset(slot)))\n",
    "    # print(hash(tuple(slot)))\n",
    "    slots[hash(frozenset(slot))]=slot\n",
    "    \n",
    "\n",
    "print(slots)\n",
    "\n",
    "\n",
    "\n",
    "\n"
   ]
  },
  {
   "cell_type": "code",
   "execution_count": 12,
   "metadata": {},
   "outputs": [
    {
     "output_type": "stream",
     "name": "stdout",
     "text": [
      "{958808779: [('THU', 15.75, 16.583333333333332), ('FRI', 15.75, 16.583333333333332), ('SAT', 15.75, 16.583333333333332)]}\n"
     ]
    }
   ],
   "source": [
    "\n",
    "\n",
    "\n",
    "\n",
    "for i,x in enumerate(departments['MECHCourseDetails']['Institute Electives']):\n",
    "    departments['MECHCourseDetails']['Institute Electives'][i][1]=departments['MECHCourseDetails']['Institute Electives'][i][1].split(',')\n",
    "    # print(x)\n",
    "    slot=[]\n",
    "    for y in departments['MECHCourseDetails']['Institute Electives'][i][1]:\n",
    "        # print(y)\n",
    "        day,start,end=makeSlotTime(\" \",\"-\",y.strip())\n",
    "        # print(day,convert(start),convert(end))\n",
    "        slot.append((day,start,end))\n",
    "        # print(day,start,end)\n",
    "    slots[hash(frozenset(slot))]=slot\n",
    "    # print(x)\n",
    "\n",
    "print(slots)\n",
    "\n",
    "\n",
    "\n"
   ]
  },
  {
   "cell_type": "code",
   "execution_count": 13,
   "metadata": {},
   "outputs": [
    {
     "output_type": "stream",
     "name": "stdout",
     "text": [
      "{958808779: [('THU', 15.75, 16.583333333333332), ('FRI', 15.75, 16.583333333333332), ('SAT', 15.75, 16.583333333333332)]}\n"
     ]
    }
   ],
   "source": [
    "\n",
    "for i,x in enumerate(departments['CIVILCourseDetails']['Institute Electives']):\n",
    "    departments['CIVILCourseDetails']['Institute Electives'][i][1]=departments['CIVILCourseDetails']['Institute Electives'][i][1].split('\\n',7)\n",
    "    slot=[]\n",
    "    # [8:] for removing the Timing\n",
    "    departments['CIVILCourseDetails']['Institute Electives'][i][1][-1]=departments['CIVILCourseDetails']['Institute Electives'][i][1][-1][8:].split('\\n')\n",
    "    # print(departments['CIVILCourseDetails']['Institute Electives'][i][1])\n",
    "    for y in departments['CIVILCourseDetails']['Institute Electives'][i][1][-1]:\n",
    "        \n",
    "        # print(y)\n",
    "        \n",
    "        \n",
    "        day,start,end=makeSlotTime('-','to',y)\n",
    "        # print(start,end)\n",
    "        \n",
    "        \n",
    "        slot.append((day,start,end))\n",
    "    slots[hash(frozenset(slot))]=slot\n",
    "    # print(x)\n",
    "print(slots)\n"
   ]
  },
  {
   "cell_type": "code",
   "execution_count": 14,
   "metadata": {},
   "outputs": [
    {
     "output_type": "error",
     "ename": "SyntaxError",
     "evalue": "unexpected EOF while parsing (<ipython-input-14-5717c20fb3bf>, line 1)",
     "traceback": [
      "\u001b[1;36m  File \u001b[1;32m\"<ipython-input-14-5717c20fb3bf>\"\u001b[1;36m, line \u001b[1;32m1\u001b[0m\n\u001b[1;33m    for i,x in enumerate(departments['CIVILCourseDetails']['Institute Electives']):\u001b[0m\n\u001b[1;37m                                                                                   ^\u001b[0m\n\u001b[1;31mSyntaxError\u001b[0m\u001b[1;31m:\u001b[0m unexpected EOF while parsing\n"
     ]
    }
   ],
   "source": []
  }
 ]
}