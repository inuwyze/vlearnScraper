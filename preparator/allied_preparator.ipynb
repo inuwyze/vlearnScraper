{
 "metadata": {
  "language_info": {
   "codemirror_mode": {
    "name": "ipython",
    "version": 3
   },
   "file_extension": ".py",
   "mimetype": "text/x-python",
   "name": "python",
   "nbconvert_exporter": "python",
   "pygments_lexer": "ipython3",
   "version": "3.7.4-final"
  },
  "orig_nbformat": 2,
  "kernelspec": {
   "name": "python3",
   "display_name": "Python 3.7.4 32-bit",
   "metadata": {
    "interpreter": {
     "hash": "378b5933d7440af72b272972b00016984f867e5c35dd4f56f11ce3af81f7077f"
    }
   }
  }
 },
 "nbformat": 4,
 "nbformat_minor": 2,
 "cells": [
  {
   "cell_type": "code",
   "execution_count": 1,
   "metadata": {},
   "outputs": [],
   "source": [
    "import json\n",
    "from os import listdir\n",
    "from os.path import isfile, join\n",
    "\n",
    "import re\n",
    "\n",
    "slots={}\n",
    "\n",
    "mypath='../../courseDetails'\n",
    "courseDetails = [f for f in listdir(mypath) if isfile(join(mypath, f))]\n",
    "selDept=['EEE','ECE']\n",
    "\n"
   ]
  },
  {
   "cell_type": "code",
   "execution_count": 2,
   "metadata": {},
   "outputs": [],
   "source": [
    "departments={}\n",
    "for x in courseDetails:\n",
    "    dept = json.load(open(\"../../courseDetails/\"+x))\n",
    "    departments[x.split('.')[0]]=dept\n",
    "    "
   ]
  },
  {
   "cell_type": "code",
   "execution_count": 3,
   "metadata": {
    "tags": []
   },
   "outputs": [],
   "source": [
    "\n",
    "# remove unwanted departments data\n",
    "dept=list (departments.keys())\n",
    "for x in dept:\n",
    "    if not len([y for y in selDept if y in x]):\n",
    "        del departments[x]\n",
    "    \n",
    "    "
   ]
  },
  {
   "cell_type": "code",
   "execution_count": 4,
   "metadata": {
    "tags": []
   },
   "outputs": [
    {
     "output_type": "stream",
     "name": "stdout",
     "text": [
      "{1332401913: [('MON', 15.75, 16.583333333333332), ('TUE', 15.75, 16.583333333333332), ('WED', 15.75, 16.583333333333332)]}\n"
     ]
    }
   ],
   "source": [
    "# allied\n",
    "# ECE\n",
    "sys.path.append('../')\n",
    "from util.slotTiming import makeSlotTime\n",
    "\n",
    "for i,x in enumerate(departments['ECECourseDetails']['Allied Electives']):\n",
    "    slot=[]\n",
    "    # spliting course details\n",
    "    departments['ECECourseDetails']['Allied Electives'][i][1]=departments['ECECourseDetails']['Allied Electives'][i][1].split('\\n',6)\n",
    "    # split course timings\n",
    "    departments['ECECourseDetails']['Allied Electives'][i][1][-1]=departments['ECECourseDetails']['Allied Electives'][i][1][-1][9:].strip().split('\\n')\n",
    "    # print(departments['ECECourseDetails']['Allied Electives'][i][1][-1]) \n",
    "    for y in departments['ECECourseDetails']['Allied Electives'][i][1][-1]:\n",
    "        # print(y.replace(':','.'))\n",
    "        y=y.replace(':','.')\n",
    "        # print(makeSlotTime(\" \",\"TO\",y))\n",
    "        day,start,end=makeSlotTime(\" \",\"TO\",y)\n",
    "        slot.append((day,start,end))\n",
    "    slots[hash(frozenset(slot))]=slot\n",
    "    \n",
    "\n",
    "print(slots)\n",
    "\n",
    "\n",
    "\n",
    "\n",
    "\n"
   ]
  },
  {
   "cell_type": "code",
   "execution_count": 5,
   "metadata": {},
   "outputs": [
    {
     "output_type": "stream",
     "name": "stdout",
     "text": [
      "{1332401913: [('MON', 15.75, 16.583333333333332), ('TUE', 15.75, 16.583333333333332), ('WED', 15.75, 16.583333333333332)]}\n"
     ]
    }
   ],
   "source": [
    "for i,x in enumerate(departments['EEECourseDetails']['Allied Electives']):\n",
    "    slot=[]\n",
    "    # print(x)\n",
    "    # spliting course details\n",
    "    departments['EEECourseDetails']['Allied Electives'][i][1]=departments['EEECourseDetails']['Allied Electives'][i][1].split('\\n',4)\n",
    "    # # split course timings\n",
    "    departments['EEECourseDetails']['Allied Electives'][i][1][-1]=departments['EEECourseDetails']['Allied Electives'][i][1][-1][8:].strip().split(',')\n",
    "    # print(departments['EEECourseDetails']['Allied Electives'][i][1]) \n",
    "    # print() \n",
    "    for y in departments['EEECourseDetails']['Allied Electives'][i][1][-1]:\n",
    "        # print(y.replace(':','.'))\n",
    "        # y=y.replace(':','.')\n",
    "        # print(makeSlotTime(\" \",\"TO\",y))\n",
    "        day,start,end=makeSlotTime(\" \",\"-\",y)\n",
    "        slot.append((day,start,end))\n",
    "    slots[hash(frozenset(slot))]=slot\n",
    "    \n",
    "print(slots)\n"
   ]
  },
  {
   "cell_type": "code",
   "execution_count": null,
   "metadata": {},
   "outputs": [],
   "source": []
  }
 ]
}